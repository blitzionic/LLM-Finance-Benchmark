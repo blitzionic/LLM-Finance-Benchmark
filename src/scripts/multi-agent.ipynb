{
 "cells": [
  {
   "cell_type": "code",
   "execution_count": 1,
   "metadata": {},
   "outputs": [],
   "source": [
    "import os\n",
    "import sys\n",
    "import openai\n",
    "from dotenv import load_dotenv\n",
    "# from sentence_transformers import SentenceTransformer\n",
    "# import faiss\n",
    "# import numpy as np\n",
    "import json"
   ]
  },
  {
   "cell_type": "code",
   "execution_count": 2,
   "metadata": {},
   "outputs": [],
   "source": [
    "agents_path = r\"..\\..\\agents\"\n",
    "\n",
    "# Add the agents folder to sys.path if it's not already there\n",
    "if agents_path not in sys.path:\n",
    "    sys.path.append(agents_path)"
   ]
  },
  {
   "cell_type": "code",
   "execution_count": null,
   "metadata": {},
   "outputs": [],
   "source": [
    "from base_agent import Agent\n",
    "from initial_generator import InitialGeneratorAgent\n",
    "from reviewer import ReviewerAgent\n",
    "from challenger import ChallengerAgent\n",
    "from refiner import RefinerAgent\n",
    "# from decider import DeciderAgent\n"
   ]
  },
  {
   "cell_type": "code",
   "execution_count": null,
   "metadata": {},
   "outputs": [],
   "source": [
    "load_dotenv()\n",
    "openai.api_key = os.getenv(\"OPENAI_API_KEY\") \n",
    "print(openai.api_key)"
   ]
  },
  {
   "cell_type": "code",
   "execution_count": null,
   "metadata": {},
   "outputs": [],
   "source": [
    "initial_generator_agent = InitialGeneratorAgent(model=\"gpt-4o\")\n",
    "question = (\n",
    "    \"In a balanced portfolio, which asset class typically provides stability during market downturns? \"\n",
    "    \"A) Equities, B) Commodities, C) Fixed income, D) Cryptocurrencies\"\n",
    ")\n",
    "generated_answer = initial_generator_agent.process(question)"
   ]
  },
  {
   "cell_type": "code",
   "execution_count": null,
   "metadata": {},
   "outputs": [],
   "source": []
  },
  {
   "cell_type": "code",
   "execution_count": null,
   "metadata": {},
   "outputs": [],
   "source": []
  }
 ],
 "metadata": {
  "kernelspec": {
   "display_name": "Python 3",
   "language": "python",
   "name": "python3"
  },
  "language_info": {
   "codemirror_mode": {
    "name": "ipython",
    "version": 3
   },
   "file_extension": ".py",
   "mimetype": "text/x-python",
   "name": "python",
   "nbconvert_exporter": "python",
   "pygments_lexer": "ipython3",
   "version": "3.11.9"
  }
 },
 "nbformat": 4,
 "nbformat_minor": 2
}
